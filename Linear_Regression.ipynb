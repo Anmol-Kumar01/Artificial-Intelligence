{
  "cells": [
    {
      "cell_type": "code",
      "execution_count": null,
      "metadata": {
        "id": "qVOoIlORhqYT"
      },
      "outputs": [],
      "source": [
        "import matplotlib.pyplot as plt\n",
        "import math\n",
        "import random\n",
        "import numpy as np"
      ]
    },
    {
      "cell_type": "markdown",
      "metadata": {
        "id": "YKXSQwWeCOfg"
      },
      "source": [
        "Linear Regression  for Linear equation,\n",
        "$$ y_i = mx_i + c + ϵ_i $$\n",
        "\n",
        "Where $$$$\n",
        "m : slope of the eqaution $$$$\n",
        "c : intercept $$$$\n",
        "xi : independent variable $$$$\n",
        "ei : error measured\n",
        "\n",
        "To estimate the value of slope and intercept we will find value of $m$ and $c$ so that the following sum of error(SE) is minimized. Expression for SE is as follows:$$SE = \\sum_{i=1}^{n}(y_{i} - m \\cdot x_{i} - c)^2$$ where $m$ is slope and $c$ is intercept.To estimate values of $m$ and $c$ use following equations:\n",
        "$$\\frac{∂SE}{∂m} = 0  \\quad  and \\quad \\frac{∂SE}{∂c} = 0$$\n",
        "Hence calculated values of $m$ and $c$ are:\n",
        "$$m =\\frac{\\overline{xy} - \\overline{x}⋅\\overline{y}}{\\overline{x^2} - (\\overline{x})^2} \\quad \\quad and \\quad \\quad c = \\overline{y} - m \\cdot \\overline{x}$$ Where  $$\\overline{x} = \\frac{1}{n}\\sum_{i=1}^{n}x_{i}  \\quad \\quad and \\quad \\quad \\overline{y} = \\frac{1}{n}\\sum_{i=1}^{n}y_{i} $$"
      ]
    },
    {
      "cell_type": "code",
      "execution_count": null,
      "metadata": {
        "id": "moC__D-1epzw"
      },
      "outputs": [],
      "source": [
        "\n",
        "m =  1 # m is the slope value #\n",
        "c =  1 # intercept value\n",
        "alpha = 10 # error moderator (we can fix error by changing the value of alpha)\n"
      ]
    },
    {
      "cell_type": "code",
      "execution_count": null,
      "metadata": {
        "id": "PGKDaazP0khw"
      },
      "outputs": [],
      "source": [
        "# Making error function\n",
        "# Y list that compute the value of Independent variable yi\n",
        "xi_list = []\n",
        "for i in range(100):\n",
        "  xi_list.append(i)\n",
        "def error_list(m,c,n):\n",
        "  yi_list = []\n",
        "  for i in range(n):\n",
        "    e_i = (random.random() - 0.5) * alpha\n",
        "    yi = m*xi_list[i] + c + e_i\n",
        "    yi_list.append(yi)\n",
        "  return yi_list\n",
        "\n"
      ]
    },
    {
      "cell_type": "code",
      "execution_count": null,
      "metadata": {
        "id": "G_7IEcLmxPkt"
      },
      "outputs": [],
      "source": [
        "\n",
        "# Function that is used to multiply the elements of given lists\n",
        "def lst_mul(lst_1, lst_2):\n",
        "  mul_lst = []\n",
        "  for i in range(len(lst_1)):\n",
        "    mul_lst.append(lst_1[i]*lst_2[i])\n",
        "  return mul_lst"
      ]
    },
    {
      "cell_type": "code",
      "execution_count": null,
      "metadata": {
        "id": "Bg62aHSEyBmr"
      },
      "outputs": [],
      "source": [
        "# Function that is used to find average the of given lists\n",
        "def lst_avg(lst):\n",
        "  sum = 0\n",
        "  for i in range(len(lst)):\n",
        "    sum = sum + lst[i]\n",
        "  return float(sum/len(lst))\n",
        "\n"
      ]
    },
    {
      "cell_type": "code",
      "execution_count": null,
      "metadata": {
        "id": "T_4vx--_ycZc"
      },
      "outputs": [],
      "source": [
        "\n",
        "xiyi_list = lst_mul(xi_list, error_list(m,c,len(xi_list)))\n",
        "xi_sqr_lst = lst_mul(xi_list, xi_list)\n"
      ]
    },
    {
      "cell_type": "code",
      "execution_count": null,
      "metadata": {
        "id": "_2ROuLBB3TmF"
      },
      "outputs": [],
      "source": [
        "# # New values of m and c after computation\n",
        "\n",
        "# Error in value of new_m need to find why it giving so large value, correct it.\n",
        "new_c = lst_avg(error_list(m,c,len(xi_list)))-m*lst_avg(xi_list)\n",
        "new_m = lst_avg(xiyi_list)-(lst_avg(xi_list)*(lst_avg(error_list(m,c,len(xi_list)))))/(lst_avg(xi_sqr_lst)-(lst_avg(xi_list)**2))"
      ]
    },
    {
      "cell_type": "code",
      "source": [
        "print(new_m ,new_c)"
      ],
      "metadata": {
        "colab": {
          "base_uri": "https://localhost:8080/"
        },
        "id": "b0jjnJxEcbd0",
        "outputId": "befa976b-8850-44e7-8801-92496b376376"
      },
      "execution_count": null,
      "outputs": [
        {
          "output_type": "stream",
          "name": "stdout",
          "text": [
            "3329.020945782869 0.9643110571470714\n"
          ]
        }
      ]
    },
    {
      "cell_type": "code",
      "execution_count": null,
      "metadata": {
        "id": "ltfKxCKu06Cs"
      },
      "outputs": [],
      "source": [
        "# Ideal Y list that computed without error\n",
        "new_yi_list = []\n",
        "for i in range(100):\n",
        "  yi = m*xi_list[i] + c\n",
        "  new_yi_list.append(yi)"
      ]
    },
    {
      "cell_type": "code",
      "execution_count": null,
      "metadata": {
        "colab": {
          "base_uri": "https://localhost:8080/",
          "height": 452
        },
        "id": "xPYYZ23j1vi6",
        "outputId": "ce30912d-35dc-4a66-a6cc-fa494d889986"
      },
      "outputs": [
        {
          "output_type": "display_data",
          "data": {
            "text/plain": [
              "<Figure size 640x480 with 1 Axes>"
            ],
            "image/png": "[encoded data removed]"
          },
          "metadata": {}
        }
      ],
      "source": [
        "# Ploting of graphs\n",
        "plt.title(\"Linear Regression\")\n",
        "plt.scatter(xi_list, error_list(m, c, len(xi_list)) , label = \"linear regression with error \", s = 6)\n",
        "plt.plot(xi_list, new_yi_list , label = \"linear regression\")\n",
        "plt.show()"
      ]
    },
    {
      "cell_type": "code",
      "execution_count": null,
      "metadata": {
        "id": "OMa9ChjsK5Lw"
      },
      "outputs": [],
      "source": []
    },
    {
      "cell_type": "markdown",
      "metadata": {
        "id": "2R8A_WYZK9E6"
      },
      "source": [
        "# Linear Regression Method\n",
        "# for Exponential equation\n",
        "$$ y_i = β e^{mx_i +ϵ_i}$$\n",
        "Here we use log to solve this expression.\n",
        "\n",
        "now take log on both side such that it will become linear equation and then we can do it using previous one\n",
        "$$ log(y_i) = log(β) + mx_i +ϵ_i $$\n",
        "Then we have  $$ y_i^{new}= log(y_i), c = log(β) m = γ$$\n",
        "\n",
        "\n",
        "now apply linear regression method to find the value of $β$ and $γ$."
      ]
    },
    {
      "cell_type": "code",
      "execution_count": null,
      "metadata": {
        "id": "rvfUQF0bA6tF"
      },
      "outputs": [],
      "source": [
        "exp_m = 1 #slope for New Equation.\n",
        "exp_c = 2 #the intercept value for New Equation.\n",
        "exp_alpha = 1 #value of alpha for New Equation."
      ]
    },
    {
      "cell_type": "code",
      "execution_count": null,
      "metadata": {
        "id": "Fae3BofQ7mC9"
      },
      "outputs": [],
      "source": [
        "beeta = 0.2 #the value of beta.\n",
        "gama =  0.03 #the valid of gama."
      ]
    },
    {
      "cell_type": "code",
      "execution_count": null,
      "metadata": {
        "id": "45S0m4fhA6v8"
      },
      "outputs": [],
      "source": [
        "#Here we are calculaing the equation \"new\" and converting this eqaution into linear regresion\n",
        "exp_xi = []\n",
        "for j in range(100):\n",
        "  exp_xi.append(j)"
      ]
    },
    {
      "cell_type": "code",
      "execution_count": null,
      "metadata": {
        "id": "t8QhcmQPA6y1"
      },
      "outputs": [],
      "source": [
        "#Here we calculationg Error\n",
        "exp_Ei = []\n",
        "for x in range(100):\n",
        "  exp_Ei.append((random.random()-0.5)*exp_alpha)"
      ]
    },
    {
      "cell_type": "code",
      "execution_count": null,
      "metadata": {
        "id": "RdlVXaKR8GbF"
      },
      "outputs": [],
      "source": [
        "exp_yi = []\n",
        "for i in range(100):\n",
        "  exp_yi_value = beeta*math.exp(gama*exp_xi[i] + exp_Ei[i])\n",
        "  exp_yi.append(exp_yi_value)\n",
        "\n"
      ]
    },
    {
      "cell_type": "code",
      "execution_count": null,
      "metadata": {
        "id": "Ti5AjdrfEkRi"
      },
      "outputs": [],
      "source": [
        "#New exp_zi list corresponding to exp_yi list values\n",
        "exp_zi = []\n",
        "for i in range(len(exp_yi)):\n",
        "  exp_zi.append(math.log(exp_yi[i]))\n",
        "\n",
        "\n"
      ]
    },
    {
      "cell_type": "code",
      "execution_count": null,
      "metadata": {
        "id": "jdtASMV62ute"
      },
      "outputs": [],
      "source": [
        "new_exp_m = 0\n",
        "exp_xizi = 0\n",
        "avg_exp_xi = 0\n",
        "avg_exp_zi = 0\n",
        "xi_sq_bar = 0\n",
        "xi_bar_sq = 0\n",
        "n = len(exp_xi)\n",
        "for i in range(n):\n",
        "  exp_xizi += (exp_xi[i] * exp_zi[i])\n",
        "  avg_exp_xi += exp_xi[i]\n",
        "  avg_exp_zi+= exp_zi[i]\n",
        "  xi_sq_bar +=(exp_xi[i])**2\n",
        "  xi_bar_sq +=(exp_xi[i])\n",
        "new_exp_m = ((exp_xizi/n) - (avg_exp_xi/n) * (avg_exp_zi/n)) / ((xi_sq_bar/n) - ((xi_bar_sq/n)**2))\n",
        "\n",
        "new_exp_c = (avg_exp_zi/n) - (new_exp_m * (avg_exp_xi/n))\n",
        "new_beeta = math.exp(new_exp_c)\n",
        "new_exp_gamma = new_exp_m"
      ]
    },
    {
      "cell_type": "code",
      "execution_count": null,
      "metadata": {
        "id": "2ATgRRe0XqSR"
      },
      "outputs": [],
      "source": [
        "new_exp_yi = []\n",
        "for i in range(len(exp_xi)):\n",
        "  y_i = new_beeta * math.exp(new_exp_gamma*exp_xi[i])\n",
        "  new_exp_yi.append(y_i)"
      ]
    },
    {
      "cell_type": "code",
      "execution_count": null,
      "metadata": {
        "colab": {
          "base_uri": "https://localhost:8080/",
          "height": 430
        },
        "id": "MD5rQDmpBTQN",
        "outputId": "236e5627-07cb-41fb-95f6-cbb530c13894"
      },
      "outputs": [
        {
          "output_type": "display_data",
          "data": {
            "text/plain": [
              "<Figure size 640x480 with 1 Axes>"
            ],
            "image/png": "[encoded data removed]"
          },
          "metadata": {}
        }
      ],
      "source": [
        "plt.plot(exp_xi, exp_yi, color=\"blue\")\n",
        "plt.plot(exp_xi, new_exp_yi, color=\"black\")\n",
        "plt.show()"
      ]
    },
    {
      "cell_type": "code",
      "source": [],
      "metadata": {
        "id": "vOV6Yo6eQh5q"
      },
      "execution_count": null,
      "outputs": []
    }
  ],
  "metadata": {
    "colab": {
      "provenance": [],
      "toc_visible": true
    },
    "kernelspec": {
      "display_name": "Python 3",
      "name": "python3"
    },
    "language_info": {
      "name": "python"
    }
  },
  "nbformat": 4,
  "nbformat_minor": 0
}